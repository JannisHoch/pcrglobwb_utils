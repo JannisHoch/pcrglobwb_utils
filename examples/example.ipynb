{
 "cells": [
  {
   "cell_type": "markdown",
   "metadata": {},
   "source": [
    "# Showcasing pcrglobwb_utils"
   ]
  },
  {
   "cell_type": "markdown",
   "metadata": {},
   "source": [
    "This notebook should provide a first impression on what the pcrglobwb_utils package and the functions therein can contribute to evaluating PCR-GLOBWB runs and output.\n",
    "\n",
    "It contains:\n",
    "\n",
    "* Extracting meta-data information from [GRDC-stations](#GRDC_info) (name, location);\n",
    "* [Extracting timeseries](#get_data) from GRDC-file and netCDF-file at specified cell;\n",
    "* [Validation](#validate) of simulated data with observations;\n",
    "* [Resampling](#resampling) to different frequencies and using different statistical descriptors;\n",
    "* Evaluate the different components of the annual [water balance](#water_balance)\n",
    "* Analyse [ensemble data](#ensembles)\n",
    "* Validate PCR-GLOBWB output against [GRACE and GLEAM data](#GRACE_and_GLEAM)"
   ]
  },
  {
   "cell_type": "markdown",
   "metadata": {},
   "source": [
    "## Preparation\n",
    "\n",
    "### Load packages"
   ]
  },
  {
   "cell_type": "code",
   "execution_count": 1,
   "metadata": {},
   "outputs": [],
   "source": [
    "import pcrglobwb_utils\n",
    "import xarray as xr\n",
    "import pandas as pd\n",
    "import numpy as np\n",
    "import matplotlib.pyplot as plt\n",
    "import rasterio as rio\n",
    "import spotpy as sp\n",
    "import os, sys\n",
    "import datetime"
   ]
  },
  {
   "cell_type": "markdown",
   "metadata": {},
   "source": [
    "Always handy to get some information on which system and with which version the notebook was run!"
   ]
  },
  {
   "cell_type": "code",
   "execution_count": 2,
   "metadata": {},
   "outputs": [
    {
     "name": "stdout",
     "output_type": "stream",
     "text": [
      "this notebook was created using Python 3.8.5 | packaged by conda-forge | (default, Jul 31 2020, 01:53:45) [MSC v.1916 64 bit (AMD64)] on a win32 on 2021-06-18 12:47:28.358826\n"
     ]
    }
   ],
   "source": [
    "print('this notebook was created using Python', str((sys.version)), 'on a', str(sys.platform),'on', datetime.datetime.now())"
   ]
  },
  {
   "cell_type": "code",
   "execution_count": 3,
   "metadata": {},
   "outputs": [
    {
     "name": "stdout",
     "output_type": "stream",
     "text": [
      "pcrglobwb_utils version 0.1.4.5b1\n",
      "pandas version 1.2.4\n",
      "xarray version 0.18.2\n",
      "numpy version 1.20.3\n",
      "geopandas version 0.9.0\n",
      "rasterio version 1.1.5\n",
      "rioxarray version 0.4.2\n"
     ]
    }
   ],
   "source": [
    "pcrglobwb_utils.utils.print_versions()"
   ]
  },
  {
   "cell_type": "markdown",
   "metadata": {},
   "source": [
    "# Working with timeseries\n",
    "\n",
    "<a id=\"GRDC_info\"></a>\n",
    "\n",
    "## Get information about GRDC-station and its location\n",
    "\n",
    "A data source often used for validating simulated discharge is the Global Runoff Data Centre ([GRDC](https://portal.grdc.bafg.de/applications/public.html?publicuser=PublicUser#)). With the functions implemented in pcrglobwb_utils, it becomes much more straightforward to validate simulated discharge with observations. All is needed is the nc-file containing simulated discharge and the GRDC-file containing observed values."
   ]
  },
  {
   "cell_type": "markdown",
   "metadata": {},
   "source": [
    "By means of a GRDC-file containing daily discharge for the station Obidos in the Amazon River basin, the workflow is explained. First, we read the file which forms the basis for all subsequent steps."
   ]
  },
  {
   "cell_type": "code",
   "execution_count": 4,
   "metadata": {},
   "outputs": [],
   "source": [
    "##- create a python-object for the GRDC-data, here daily values\n",
    "grdc_data = pcrglobwb_utils.obs_data.grdc_data('example_data/3629000_Obidos.day')"
   ]
  },
  {
   "cell_type": "markdown",
   "metadata": {},
   "source": [
    "As long as the file follows the 'default' GRDC-format, the tool parses the content to find the right entries. This is used to return some important meta-data about the station."
   ]
  },
  {
   "cell_type": "code",
   "execution_count": 5,
   "metadata": {},
   "outputs": [
    {
     "name": "stdout",
     "output_type": "stream",
     "text": [
      "station OBIDOS - PORTO at latitude/longitude -1.947200/-55.511100\n",
      "{'station': 'OBIDOS - PORTO', 'latitude': -1.9472, 'longitude': -55.5111}\n"
     ]
    }
   ],
   "source": [
    "##- get a simple plot_title and properties (as dictionary) for this GRDC station\n",
    "plot_title, props = grdc_data.get_grdc_station_properties()\n",
    "print(plot_title)\n",
    "print(props)"
   ]
  },
  {
   "cell_type": "markdown",
   "metadata": {},
   "source": [
    "We now know where this specific location is located based on lat/lon information. This in turn can be employed to find the corresponding cell in the netCDF-file and extract a timeseries of simulated discharge from there."
   ]
  },
  {
   "cell_type": "code",
   "execution_count": 6,
   "metadata": {},
   "outputs": [
    {
     "name": "stderr",
     "output_type": "stream",
     "text": [
      "WARNING: __init__.open(): CPLE_AppDefined in Recode from UTF-8 to CP_ACP failed with the error: \"Invalid argument\".\n",
      "WARNING: __init__.open(): CPLE_AppDefined in No UNIDATA NC_GLOBAL:Conventions attribute\n"
     ]
    },
    {
     "name": "stdout",
     "output_type": "stream",
     "text": [
      "The location OBIDOS - PORTO with its latitude -1.9472 and longitude -55.5111 corresponds to the cell with row and cell indeces (17, 50)\n"
     ]
    }
   ],
   "source": [
    "##- based on lon/lat information of GRDC station, find corresponding row/col indices in nc-file\n",
    "row, col = pcrglobwb_utils.utils.find_indices_from_coords('example_data/DUMMY_discharge_dailyTot_output.nc', \n",
    "                                                          props['longitude'], props['latitude'])\n",
    "\n",
    "print('The location {} with its latitude {} and longitude {} corresponds to the cell with row and cell indeces {}'.format(props['station'], \n",
    "                                                                                                                         props['latitude'], \n",
    "                                                                                                                         props['longitude'],\n",
    "                                                                                                                         (row, col)))"
   ]
  },
  {
   "cell_type": "markdown",
   "metadata": {},
   "source": [
    "Sometimes, the  river network and the coordinates provided in the GRDC-file do not match. Let's have a visual check if this is the case here as well or not. 'pcrglobwb_utils' provides a wrapper to plot the data of a nc-file with a given variable name at a certain date."
   ]
  },
  {
   "cell_type": "code",
   "execution_count": 7,
   "metadata": {},
   "outputs": [],
   "source": [
    "plt.figure()\n",
    "pcrglobwb_utils.plotting.plot_var_at_timestep('example_data/DUMMY_discharge_dailyTot_output.nc', \n",
    "                                              var_name='discharge', \n",
    "                                              time='1988-01-01')\n",
    "plt.scatter(props['longitude'], props['latitude'], c='r', label='GRDC station {}'.format(props['station']))\n",
    "plt.legend();"
   ]
  },
  {
   "cell_type": "markdown",
   "metadata": {},
   "source": [
    "Fortunately, the river network and coordinates match! We are not ready to extract timeseries from both the GRDC and PCR-GLOBWB files!"
   ]
  },
  {
   "cell_type": "markdown",
   "metadata": {},
   "source": [
    "<a id=\"get_data\"></a>\n",
    "\n",
    "## Reading values files and visualzing them\n",
    "\n",
    "### From GRDC file\n",
    "\n",
    "We already know the station name, where the GRDC-station is located, and that river network and coordinates match. Now let's get to the pudels kern and get the timeseries of observed discharge at this station."
   ]
  },
  {
   "cell_type": "markdown",
   "metadata": {},
   "source": [
    "Let's check the daily discharge data at Obidos. We can directly plot the timeseries and give it a user-specified variable name."
   ]
  },
  {
   "cell_type": "code",
   "execution_count": 8,
   "metadata": {},
   "outputs": [
    {
     "name": "stdout",
     "output_type": "stream",
     "text": [
      "... reading column Original\n"
     ]
    }
   ],
   "source": [
    "df_GRDC, props = grdc_data.get_grdc_station_values(var_name='Q$obs$ GRDC [m3/s]')"
   ]
  },
  {
   "cell_type": "code",
   "execution_count": 9,
   "metadata": {},
   "outputs": [
    {
     "data": {
      "text/plain": [
       "{'station': 'OBIDOS - PORTO', 'latitude': -1.9472, 'longitude': -55.5111}"
      ]
     },
     "execution_count": 9,
     "metadata": {},
     "output_type": "execute_result"
    }
   ],
   "source": [
    "props"
   ]
  },
  {
   "cell_type": "markdown",
   "metadata": {},
   "source": [
    "Once we have retrieved the timeseries, the station properties are updated with the startdate and enddate of observations. Note, that this does not say anything about the number of missing values in this timeseries and when they occur!"
   ]
  },
  {
   "cell_type": "code",
   "execution_count": 10,
   "metadata": {},
   "outputs": [
    {
     "ename": "KeyError",
     "evalue": "'start_data_obs'",
     "output_type": "error",
     "traceback": [
      "\u001b[1;31m---------------------------------------------------------------------------\u001b[0m",
      "\u001b[1;31mKeyError\u001b[0m                                  Traceback (most recent call last)",
      "\u001b[1;32m<ipython-input-10-140e0d4f5e56>\u001b[0m in \u001b[0;36m<module>\u001b[1;34m\u001b[0m\n\u001b[1;32m----> 1\u001b[1;33m \u001b[0mprint\u001b[0m\u001b[1;33m(\u001b[0m\u001b[1;34m'Start data of the observations is {} and the end data is {}'\u001b[0m\u001b[1;33m.\u001b[0m\u001b[0mformat\u001b[0m\u001b[1;33m(\u001b[0m\u001b[0mprops\u001b[0m\u001b[1;33m[\u001b[0m\u001b[1;34m'start_data_obs'\u001b[0m\u001b[1;33m]\u001b[0m\u001b[1;33m,\u001b[0m \u001b[0mprops\u001b[0m\u001b[1;33m[\u001b[0m\u001b[1;34m'end_data_obs'\u001b[0m\u001b[1;33m]\u001b[0m\u001b[1;33m)\u001b[0m\u001b[1;33m)\u001b[0m\u001b[1;33m\u001b[0m\u001b[1;33m\u001b[0m\u001b[0m\n\u001b[0m",
      "\u001b[1;31mKeyError\u001b[0m: 'start_data_obs'"
     ]
    }
   ],
   "source": [
    "print('Start data of the observations is {} and the end data is {}'.format(props['start_data_obs'], props['end_data_obs']))"
   ]
  },
  {
   "cell_type": "markdown",
   "metadata": {},
   "source": [
    "### From Excel file\n",
    "\n",
    "Observed discharge is not always retrieved from the GRDC. If the file is not structured like GRDC files but a simple Excel-file with one (!) sheet containing two columns (date and value), we could do the same by reading from a non-GRDC formatted Excel-file. In this case, we do of course miss the station meta-data.\n",
    "\n",
    "*Note: for this example the GRDC data was copied into an Excel-file, thus the absolute agreement between both timeseries.*"
   ]
  },
  {
   "cell_type": "code",
   "execution_count": 11,
   "metadata": {},
   "outputs": [],
   "source": [
    "##- first, create a python-object \n",
    "excel_data = pcrglobwb_utils.obs_data.other_data('example_data/Obidos_data.xlsx')\n",
    "\n",
    "# second, apply method\n",
    "df_excel = excel_data.get_values_from_excel(var_name='Q$obs$ Excel [m3/s]',\n",
    "                                     plot=True,\n",
    "                                     remove_mv=True)"
   ]
  },
  {
   "cell_type": "markdown",
   "metadata": {},
   "source": [
    "### From nc-file\n",
    "\n",
    "Thus far, we looked merely at observed values. Time to check out the simulated values too! To that end, we first read the netCDF-file containing simulated discharge data. "
   ]
  },
  {
   "cell_type": "code",
   "execution_count": null,
   "metadata": {},
   "outputs": [],
   "source": [
    "pcr_data = pcrglobwb_utils.sim_data.from_nc('example_data/DUMMY_discharge_dailyTot_output.nc')"
   ]
  },
  {
   "cell_type": "markdown",
   "metadata": {},
   "source": [
    "Above, we already determined the row and column indices of the GRDC-station we use for model validation. These indices now serve as input to retrieve the timeseries from the netCDF-file and store it as dataframe. Again, the user can specify a variable name."
   ]
  },
  {
   "cell_type": "code",
   "execution_count": null,
   "metadata": {},
   "outputs": [],
   "source": [
    "# apply method to read values at specific row and col\n",
    "q_sim_obidos = pcr_data.read_values_at_indices(row, col, plot_var_name='Q$sim$ PCR-GLOBWB [m3/s]', plot=False)"
   ]
  },
  {
   "cell_type": "markdown",
   "metadata": {},
   "source": [
    "Together with the above-retrieved dataframe containing the observed values, we can now finally compare the timeseries!"
   ]
  },
  {
   "cell_type": "code",
   "execution_count": null,
   "metadata": {},
   "outputs": [],
   "source": [
    "fig, ax = plt.subplots(1, 1, figsize=(20,10))\n",
    "q_sim_obidos.plot(ax=ax)\n",
    "df_GRDC.plot(ax=ax)\n",
    "ax.set_ylabel('daily discharge [m3/s]')\n",
    "ax.set_xlabel(None)\n",
    "plt.legend()\n",
    "plt.title('daily simulated and observed values');"
   ]
  },
  {
   "cell_type": "markdown",
   "metadata": {},
   "source": [
    "<a id=\"validate\"></a>\n",
    "\n",
    "## Validation of daily values\n",
    "\n",
    "Eventually, we do not only want to look at timeseries, but validate the accuracy of simulated discharge wiht observation. Currently, we can compute the KGE (with or without its components), NSE, RMSE, and R2 based on simulations and observations. To do so, both timeseries need to be clipped to the common period and missing values are removed."
   ]
  },
  {
   "cell_type": "code",
   "execution_count": null,
   "metadata": {},
   "outputs": [],
   "source": [
    "df_eval, eval_dic = pcr_data.validate_results(df_GRDC, out_dir='./_OUT', return_all_KGE=True)"
   ]
  },
  {
   "cell_type": "code",
   "execution_count": null,
   "metadata": {},
   "outputs": [],
   "source": [
    "print('Calculated KGE is {0:0.2f}, NSE is {1:0.2f}, RMSE = {2:0.2f}, and R2 = {3:0.2f}'.format(eval_dic['KGE'][0],\n",
    "                                                                                               eval_dic['NSE'],\n",
    "                                                                                               eval_dic['RMSE'],\n",
    "                                                                                               eval_dic['R2']))"
   ]
  },
  {
   "cell_type": "code",
   "execution_count": null,
   "metadata": {},
   "outputs": [],
   "source": [
    "print('in case it is specified, the components of the KGE are: correlation {0:0.2f}, ratio of the standard deviation {1:0.2f}, and ratio of the mean {2:0.2f}'.format(eval_dic['KGE'][1],\n",
    "                                                                                                                                                    eval_dic['KGE'][2],\n",
    "                                                                                                                                                    eval_dic['KGE'][3]))"
   ]
  },
  {
   "cell_type": "markdown",
   "metadata": {},
   "source": [
    "In case the statistical properties of the timeseries are of interest, this can be provided as well. If needed, the properties of observed data can be included as well."
   ]
  },
  {
   "cell_type": "code",
   "execution_count": null,
   "metadata": {},
   "outputs": [],
   "source": [
    "stats = pcr_data.calc_stats(out_dir='./_OUT', add_obs=False)\n",
    "stats"
   ]
  },
  {
   "cell_type": "markdown",
   "metadata": {},
   "source": [
    "<a id=\"resampling\"></a>\n",
    "\n",
    "## Resampling over time using different statistical descriptors\n",
    "\n",
    "### Averaging\n",
    "\n",
    "It is also possible to resample timeseries from, for instance, daily values to monthly or even yearly values. Thereby, the resampling can be done using the monthly/yearly mean (default setting) or used to determine minimum and maximum mean value per month or year."
   ]
  },
  {
   "cell_type": "code",
   "execution_count": null,
   "metadata": {},
   "outputs": [],
   "source": [
    "q_sim_obidos_monthly = pcr_data.resample2monthly(stat_func='mean', suffix='_monthly')\n",
    "q_sim_obidos_monthlyMAX = pcr_data.resample2monthly(stat_func='max', suffix='_monthly')\n",
    "q_sim_obidos_monthlyMIN = pcr_data.resample2monthly(stat_func='min', suffix='_monthly')"
   ]
  },
  {
   "cell_type": "markdown",
   "metadata": {},
   "source": [
    "By using min, mean, and max monthly values, the boundaries of discharg can be plotted nicely."
   ]
  },
  {
   "cell_type": "code",
   "execution_count": null,
   "metadata": {},
   "outputs": [],
   "source": [
    "ax = q_sim_obidos_monthly.plot(c='r', marker='x', figsize=(20,10))\n",
    "q_sim_obidos_monthlyMAX.plot(ax=ax, c='g', linestyle='--')\n",
    "q_sim_obidos_monthlyMIN.plot(ax=ax, c='g', linestyle=':')\n",
    "q_sim_obidos.plot(ax=ax, c='k', linestyle=':', title='PCR-GLOBWB-data resampled to monthly values')\n",
    "ax.set_ylabel('discharge [m3/s]');"
   ]
  },
  {
   "cell_type": "markdown",
   "metadata": {},
   "source": [
    "Similarly, we can do this for observed discharge."
   ]
  },
  {
   "cell_type": "code",
   "execution_count": null,
   "metadata": {},
   "outputs": [],
   "source": [
    "GRDC_data_monthly = grdc_data.resample2monthly(stat_func='mean', suffix='_monthly')"
   ]
  },
  {
   "cell_type": "markdown",
   "metadata": {},
   "source": [
    "With this, the monthly average discharge from both observations and simulation can be plotted."
   ]
  },
  {
   "cell_type": "code",
   "execution_count": null,
   "metadata": {},
   "outputs": [],
   "source": [
    "ax = GRDC_data_monthly.plot(c='r', marker='o', figsize=(20,10))\n",
    "q_sim_obidos_monthly.plot(ax=ax, c='k', marker='o', title='PCR-GLOBWB-data vs GRDC-data (both resampled)')\n",
    "ax.set_ylabel('discharge [m3/s]')\n",
    "ax.set_xlabel(None)\n",
    "ax.set_xlim(q_sim_obidos_monthly.index.values[0], q_sim_obidos_monthly.index.values[-1]);"
   ]
  },
  {
   "cell_type": "markdown",
   "metadata": {},
   "source": [
    "<a id=\"water_balance\"></a>\n",
    "\n",
    "# Analyzing the water balance of a run\n",
    "\n",
    "By parsing the water balance statements in the log file, it is possible to get the annual values of different water balance components."
   ]
  },
  {
   "cell_type": "code",
   "execution_count": null,
   "metadata": {},
   "outputs": [],
   "source": [
    "# first, create a water balance object based on the log-file\n",
    "wb = pcrglobwb_utils.water_balance.water_balance('example_data/setup_30min_Amazon_2005_2010_para.log')"
   ]
  },
  {
   "cell_type": "code",
   "execution_count": null,
   "metadata": {},
   "outputs": [],
   "source": [
    "# now get annual values of the components\n",
    "wb.get_annual_values()"
   ]
  },
  {
   "cell_type": "code",
   "execution_count": null,
   "metadata": {},
   "outputs": [],
   "source": [
    "# it is also possible to directly plot them as bar plot\n",
    "wb.bar_plot()"
   ]
  },
  {
   "cell_type": "code",
   "execution_count": null,
   "metadata": {},
   "outputs": [],
   "source": [
    "# alternatively, the dataframe can be retrieved and all pandas plotting options are available\n",
    "wb_vals = wb.get_annual_values()\n",
    "wb_vals.plot(x='year')"
   ]
  },
  {
   "cell_type": "markdown",
   "metadata": {},
   "source": [
    "<a id=\"ensembles\"></a>\n",
    "\n",
    "# Ensembles\n",
    "\n",
    "If more than one run is performe, but an ensemble (e.g. with different RCPs), it can be useful to automatically compute and vizualize the mean, max, and min of the ensemble. So if we have timeseries of simulated discharge for one location based on an ensemble of simulations, they can easily be compared."
   ]
  },
  {
   "cell_type": "markdown",
   "metadata": {},
   "source": [
    "Since we only have output from one run here (the discharge data at Obidos as shown above), we compute a couple of dummy time series first by multiplying the actual data with random factors."
   ]
  },
  {
   "cell_type": "code",
   "execution_count": null,
   "metadata": {},
   "outputs": [],
   "source": [
    "fact_arr = np.random.rand(9)"
   ]
  },
  {
   "cell_type": "code",
   "execution_count": null,
   "metadata": {},
   "outputs": [],
   "source": [
    "q_ens = [q_sim_obidos]\n",
    "for factor, i in zip(fact_arr, range(len(fact_arr))):\n",
    "    q_temp = q_sim_obidos.mul(factor)\n",
    "    q_temp = q_temp.rename(columns={'Q$sim$ PCR-GLOBWB [m3/s]': i+1})\n",
    "    q_ens.append(q_temp)"
   ]
  },
  {
   "cell_type": "markdown",
   "metadata": {},
   "source": [
    "This list 'q_ens' represents now a ensemble runs which can be used as arguments for pcrglobwb_utils."
   ]
  },
  {
   "cell_type": "code",
   "execution_count": null,
   "metadata": {},
   "outputs": [],
   "source": [
    "ens_obj = pcrglobwb_utils.ensembles.ensemble_data(q_ens[0], q_ens[1], q_ens[2], q_ens[4], q_ens[5], q_ens[9])"
   ]
  },
  {
   "cell_type": "markdown",
   "metadata": {},
   "source": [
    "We can now calculate the mean, max, and min of the timeseries."
   ]
  },
  {
   "cell_type": "code",
   "execution_count": null,
   "metadata": {},
   "outputs": [],
   "source": [
    "df_ens = ens_obj.calc_stats()\n",
    "df_ens.head()"
   ]
  },
  {
   "cell_type": "markdown",
   "metadata": {},
   "source": [
    "This information allows us to plot the span of values per timestep as a graph."
   ]
  },
  {
   "cell_type": "code",
   "execution_count": null,
   "metadata": {},
   "outputs": [],
   "source": [
    "ens_obj.plot_bounds()"
   ]
  },
  {
   "cell_type": "markdown",
   "metadata": {},
   "source": [
    "Sometimes it is good to know what the min, mean, and max value is per month averaged over the entire ensemble timeseries. pcrglobwb_utils facilitates visualizing them."
   ]
  },
  {
   "cell_type": "code",
   "execution_count": null,
   "metadata": {},
   "outputs": [],
   "source": [
    "df = ens_obj.climatology(plot=True)"
   ]
  },
  {
   "cell_type": "code",
   "execution_count": null,
   "metadata": {},
   "outputs": [],
   "source": [
    "df.head()"
   ]
  }
 ],
 "metadata": {
  "kernelspec": {
   "display_name": "Python 3.8.2 64-bit ('pcrglobwb_utils': conda)",
   "language": "python",
   "name": "python38264bitpcrglobwbutilscondae76d4587fd0740e6923154732b03309f"
  },
  "language_info": {
   "codemirror_mode": {
    "name": "ipython",
    "version": 3
   },
   "file_extension": ".py",
   "mimetype": "text/x-python",
   "name": "python",
   "nbconvert_exporter": "python",
   "pygments_lexer": "ipython3",
   "version": "3.8.5"
  }
 },
 "nbformat": 4,
 "nbformat_minor": 2
}
