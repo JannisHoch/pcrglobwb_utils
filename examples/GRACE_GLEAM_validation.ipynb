{
 "cells": [
  {
   "cell_type": "markdown",
   "metadata": {},
   "source": [
    "# Validating terrestrial water storage and evaporation\n",
    "\n",
    "Important parts of the water balance and assessment of model performance are the terrestrial water storage (TWS) and evaporation (E). In this example, TWS is validated against GRACE/GRACE-FO data and E is benchmarked with GLEAM data. *pcrglobwb_utils* facilitates the validation process by providing scores per polygon of a shp-file.\n",
    "\n",
    "[![Binder](https://mybinder.org/badge_logo.svg)](https://mybinder.org/v2/gh/JannisHoch/pcrglobwb_utils/dev?filepath=%2Fexamples%2FGRACE_GLEAM_validation.ipynb)"
   ]
  },
  {
   "cell_type": "markdown",
   "metadata": {},
   "source": [
    "## Preambule\n",
    "\n",
    "Loading required packages and showing package versions used."
   ]
  },
  {
   "cell_type": "code",
   "execution_count": 1,
   "metadata": {},
   "outputs": [],
   "source": [
    "%matplotlib inline\n",
    "import pcrglobwb_utils\n",
    "import xarray as xr\n",
    "import pandas as pd\n",
    "import numpy as np\n",
    "import geopandas as gpd\n",
    "import matplotlib\n",
    "import matplotlib.pyplot as plt\n",
    "import rasterio as rio\n",
    "import spotpy as sp\n",
    "import os, sys\n",
    "import datetime"
   ]
  },
  {
   "cell_type": "code",
   "execution_count": 2,
   "metadata": {},
   "outputs": [
    {
     "name": "stdout",
     "output_type": "stream",
     "text": [
      "this notebook was created using Python 3.8.5 | packaged by conda-forge | (default, Jul 31 2020, 01:53:45) [MSC v.1916 64 bit (AMD64)] on a win32 on 2021-12-03 17:03:53.367184\n"
     ]
    }
   ],
   "source": [
    "print('this notebook was created using Python', str((sys.version)), 'on a', str(sys.platform),'on', datetime.datetime.now())"
   ]
  },
  {
   "cell_type": "code",
   "execution_count": 3,
   "metadata": {},
   "outputs": [
    {
     "name": "stdout",
     "output_type": "stream",
     "text": [
      "pcrglobwb_utils version 0.3.3\n",
      "pandas version 1.2.4\n",
      "xarray version 0.18.2\n",
      "numpy version 1.20.3\n",
      "geopandas version 0.9.0\n",
      "rasterio version 1.1.5\n",
      "rioxarray version 0.4.2\n"
     ]
    }
   ],
   "source": [
    "pcrglobwb_utils.utils.print_versions()"
   ]
  },
  {
   "cell_type": "markdown",
   "metadata": {},
   "source": [
    "## Select the area\n",
    "\n",
    "*pcrglobwb_utils* applies the TWS and E validation for an area as user-specified by means of a shp-file containing one or more polygons. Per polygon, both simulated and observed data is averaged per time step. With the resulting time series, performance metrics can be computed and visualized. For the example here, the water provinces located in Tanzania are used. Hence, the first step is to load the shp-file."
   ]
  },
  {
   "cell_type": "code",
   "execution_count": 4,
   "metadata": {},
   "outputs": [
    {
     "name": "stdout",
     "output_type": "stream",
     "text": [
      "reading shp-file C:\\Users\\hoch0001\\Documents\\_code\\pcrglobwb_utils\\examples\\example_data\\Tanzania_shp\\waterProvinces.geojson\n"
     ]
    }
   ],
   "source": [
    "TZA_waterProvinces = pcrglobwb_utils.spatial_validation.validate_per_shape(shp_fo='example_data/Tanzania_shp/waterProvinces.geojson',\n",
    "                                                                           shp_key='watprovID')"
   ]
  },
  {
   "cell_type": "markdown",
   "metadata": {},
   "source": [
    "Quickly inspect the extent information of the loaded data."
   ]
  },
  {
   "cell_type": "code",
   "execution_count": 5,
   "metadata": {},
   "outputs": [
    {
     "data": {
      "text/html": [
       "<div>\n",
       "<style scoped>\n",
       "    .dataframe tbody tr th:only-of-type {\n",
       "        vertical-align: middle;\n",
       "    }\n",
       "\n",
       "    .dataframe tbody tr th {\n",
       "        vertical-align: top;\n",
       "    }\n",
       "\n",
       "    .dataframe thead th {\n",
       "        text-align: right;\n",
       "    }\n",
       "</style>\n",
       "<table border=\"1\" class=\"dataframe\">\n",
       "  <thead>\n",
       "    <tr style=\"text-align: right;\">\n",
       "      <th></th>\n",
       "      <th>OBJECTID</th>\n",
       "      <th>MAJORBASIN</th>\n",
       "      <th>COUNTRY</th>\n",
       "      <th>REGION</th>\n",
       "      <th>watprov</th>\n",
       "      <th>watprovID</th>\n",
       "      <th>km2</th>\n",
       "      <th>Shape_Leng</th>\n",
       "      <th>Shape_Area</th>\n",
       "      <th>geometry</th>\n",
       "    </tr>\n",
       "  </thead>\n",
       "  <tbody>\n",
       "    <tr>\n",
       "      <th>0</th>\n",
       "      <td>12</td>\n",
       "      <td>Africa, East Central Coast</td>\n",
       "      <td>Tanzania</td>\n",
       "      <td>Iringa</td>\n",
       "      <td>Tanzania_Iringa_Africa, East Central Coast</td>\n",
       "      <td>25</td>\n",
       "      <td>88460.9</td>\n",
       "      <td>22.002607</td>\n",
       "      <td>7.195788</td>\n",
       "      <td>POLYGON ((36.29721 -5.12083, 36.29583 -5.12503...</td>\n",
       "    </tr>\n",
       "    <tr>\n",
       "      <th>1</th>\n",
       "      <td>13</td>\n",
       "      <td>Africa, East Central Coast</td>\n",
       "      <td>Tanzania</td>\n",
       "      <td>Lindi</td>\n",
       "      <td>Tanzania_Lindi_Africa, East Central Coast</td>\n",
       "      <td>28</td>\n",
       "      <td>85004.1</td>\n",
       "      <td>15.485085</td>\n",
       "      <td>6.865913</td>\n",
       "      <td>MULTIPOLYGON (((40.19511 -10.26096, 40.19125 -...</td>\n",
       "    </tr>\n",
       "    <tr>\n",
       "      <th>2</th>\n",
       "      <td>14</td>\n",
       "      <td>Africa, East Central Coast</td>\n",
       "      <td>Tanzania</td>\n",
       "      <td>Manyara</td>\n",
       "      <td>Tanzania_Manyara_Africa, East Central Coast</td>\n",
       "      <td>29</td>\n",
       "      <td>36772.8</td>\n",
       "      <td>13.405812</td>\n",
       "      <td>2.976842</td>\n",
       "      <td>POLYGON ((37.17537 -2.76838, 37.17193 -2.76958...</td>\n",
       "    </tr>\n",
       "    <tr>\n",
       "      <th>3</th>\n",
       "      <td>15</td>\n",
       "      <td>Africa, East Central Coast</td>\n",
       "      <td>Tanzania</td>\n",
       "      <td>Mbeya</td>\n",
       "      <td>Tanzania_Mbeya_Africa, East Central Coast</td>\n",
       "      <td>30</td>\n",
       "      <td>17342.4</td>\n",
       "      <td>8.245606</td>\n",
       "      <td>1.414085</td>\n",
       "      <td>POLYGON ((34.15102 -7.38556, 34.15304 -7.39140...</td>\n",
       "    </tr>\n",
       "    <tr>\n",
       "      <th>4</th>\n",
       "      <td>16</td>\n",
       "      <td>Africa, East Central Coast</td>\n",
       "      <td>Tanzania</td>\n",
       "      <td>Morogoro</td>\n",
       "      <td>Tanzania_Morogoro_Africa, East Central Coast</td>\n",
       "      <td>31</td>\n",
       "      <td>146718.0</td>\n",
       "      <td>29.906623</td>\n",
       "      <td>11.605295</td>\n",
       "      <td>MULTIPOLYGON (((39.25203 -8.00781, 39.24966 -8...</td>\n",
       "    </tr>\n",
       "  </tbody>\n",
       "</table>\n",
       "</div>"
      ],
      "text/plain": [
       "   OBJECTID                  MAJORBASIN   COUNTRY    REGION  \\\n",
       "0        12  Africa, East Central Coast  Tanzania    Iringa   \n",
       "1        13  Africa, East Central Coast  Tanzania     Lindi   \n",
       "2        14  Africa, East Central Coast  Tanzania   Manyara   \n",
       "3        15  Africa, East Central Coast  Tanzania     Mbeya   \n",
       "4        16  Africa, East Central Coast  Tanzania  Morogoro   \n",
       "\n",
       "                                        watprov  watprovID       km2  \\\n",
       "0    Tanzania_Iringa_Africa, East Central Coast         25   88460.9   \n",
       "1     Tanzania_Lindi_Africa, East Central Coast         28   85004.1   \n",
       "2   Tanzania_Manyara_Africa, East Central Coast         29   36772.8   \n",
       "3     Tanzania_Mbeya_Africa, East Central Coast         30   17342.4   \n",
       "4  Tanzania_Morogoro_Africa, East Central Coast         31  146718.0   \n",
       "\n",
       "   Shape_Leng  Shape_Area                                           geometry  \n",
       "0   22.002607    7.195788  POLYGON ((36.29721 -5.12083, 36.29583 -5.12503...  \n",
       "1   15.485085    6.865913  MULTIPOLYGON (((40.19511 -10.26096, 40.19125 -...  \n",
       "2   13.405812    2.976842  POLYGON ((37.17537 -2.76838, 37.17193 -2.76958...  \n",
       "3    8.245606    1.414085  POLYGON ((34.15102 -7.38556, 34.15304 -7.39140...  \n",
       "4   29.906623   11.605295  MULTIPOLYGON (((39.25203 -8.00781, 39.24966 -8...  "
      ]
     },
     "execution_count": 5,
     "metadata": {},
     "output_type": "execute_result"
    }
   ],
   "source": [
    "TZA_waterProvinces.extent_gdf.head()"
   ]
  },
  {
   "cell_type": "markdown",
   "metadata": {},
   "source": [
    "### TWS validation\n",
    "\n",
    "For validating simulated TWS, netCDF-files of both simulation and observation need to be provided. Per polygon, time series are retrieved and evaluated. This yields a dataframe with R and RMSE value per polygon."
   ]
  },
  {
   "cell_type": "code",
   "execution_count": 6,
   "metadata": {},
   "outputs": [
    {
     "name": "stdout",
     "output_type": "stream",
     "text": [
      "reading GRACE file C:\\Users\\hoch0001\\Documents\\_code\\pcrglobwb_utils\\examples\\example_data\\GRACE\\GRACE_data_2010_Tanzania.nc\n",
      "reading PCR-GLOBWB file C:\\Users\\hoch0001\\Documents\\_code\\pcrglobwb_utils\\examples\\example_data\\GRACE\\totalWaterStorageThickness_monthAvg_output_2010_Tanzania.nc\n",
      "extract raw data from nc-files\n",
      "clipping nc-files to extent of shp-file\n",
      "computing R and RMSE for polygon with key identifier watprovID 25\n",
      "computing R and RMSE for polygon with key identifier watprovID 28\n",
      "computing R and RMSE for polygon with key identifier watprovID 29\n",
      "computing R and RMSE for polygon with key identifier watprovID 30\n",
      "computing R and RMSE for polygon with key identifier watprovID 31\n",
      "computing R and RMSE for polygon with key identifier watprovID 32\n",
      "computing R and RMSE for polygon with key identifier watprovID 33\n",
      "computing R and RMSE for polygon with key identifier watprovID 443\n",
      "computing R and RMSE for polygon with key identifier watprovID 444\n",
      "computing R and RMSE for polygon with key identifier watprovID 445\n",
      "computing R and RMSE for polygon with key identifier watprovID 1021\n",
      "computing R and RMSE for polygon with key identifier watprovID 1226\n",
      "computing R and RMSE for polygon with key identifier watprovID 1227\n",
      "computing R and RMSE for polygon with key identifier watprovID 1228\n",
      "computing R and RMSE for polygon with key identifier watprovID 1229\n"
     ]
    }
   ],
   "source": [
    "watprov_gdf = TZA_waterProvinces.against_GRACE(PCR_nc_fo='example_data/GRACE/totalWaterStorageThickness_monthAvg_output_2010_Tanzania.nc',\n",
    "                                               GRACE_nc_fo='example_data/GRACE/GRACE_data_2010_Tanzania.nc')"
   ]
  },
  {
   "cell_type": "markdown",
   "metadata": {},
   "source": [
    "As *pcrglobwb_utils* returns a geo-dataframe, the R and RMSE values can also be plotted."
   ]
  },
  {
   "cell_type": "code",
   "execution_count": 7,
   "metadata": {},
   "outputs": [],
   "source": [
    "fig, (ax1, ax2) = plt.subplots(1, 2, figsize=(20, 10))\n",
    "watprov_gdf.plot(column='R', ax=ax1, cmap='magma', legend=True, legend_kwds={'orientation':'horizontal', 'label':'R'})\n",
    "watprov_gdf.plot(column='RMSE', ax=ax2, cmap='viridis', legend=True, legend_kwds={'orientation':'horizontal', 'label':'RMSE'})\n",
    "plt.tight_layout();"
   ]
  },
  {
   "cell_type": "markdown",
   "metadata": {},
   "source": [
    "### E benchmark\n",
    "\n",
    "The same workflow is followed when benchmarking simulated E with GLEAM data."
   ]
  },
  {
   "cell_type": "code",
   "execution_count": 8,
   "metadata": {},
   "outputs": [
    {
     "name": "stdout",
     "output_type": "stream",
     "text": [
      "reading GLEAM file C:\\Users\\hoch0001\\Documents\\_code\\pcrglobwb_utils\\examples\\example_data\\GLEAM\\GLEAM_data_2010_Tanzania.nc\n",
      "reading PCR-GLOBWB file C:\\Users\\hoch0001\\Documents\\_code\\pcrglobwb_utils\\examples\\example_data\\GLEAM\\totalEvaporation_monthTot_output_2010_Tanzania.nc\n",
      "extract raw data from nc-files\n",
      "clipping nc-files to extent of shp-file\n",
      "computing R and RMSE for polygon with key identifier watprovID 25\n",
      "computing R and RMSE for polygon with key identifier watprovID 28\n",
      "computing R and RMSE for polygon with key identifier watprovID 29\n",
      "computing R and RMSE for polygon with key identifier watprovID 30\n",
      "computing R and RMSE for polygon with key identifier watprovID 31\n",
      "computing R and RMSE for polygon with key identifier watprovID 32\n",
      "computing R and RMSE for polygon with key identifier watprovID 33\n",
      "computing R and RMSE for polygon with key identifier watprovID 443\n",
      "computing R and RMSE for polygon with key identifier watprovID 444\n",
      "computing R and RMSE for polygon with key identifier watprovID 445\n",
      "computing R and RMSE for polygon with key identifier watprovID 1021\n",
      "computing R and RMSE for polygon with key identifier watprovID 1226\n",
      "computing R and RMSE for polygon with key identifier watprovID 1227\n",
      "computing R and RMSE for polygon with key identifier watprovID 1228\n",
      "computing R and RMSE for polygon with key identifier watprovID 1229\n"
     ]
    }
   ],
   "source": [
    "watprov_gdf = TZA_waterProvinces.against_GLEAM(PCR_nc_fo='example_data/GLEAM/totalEvaporation_monthTot_output_2010_Tanzania.nc',\n",
    "                                               GLEAM_nc_fo='example_data/GLEAM/GLEAM_data_2010_Tanzania.nc')"
   ]
  },
  {
   "cell_type": "code",
   "execution_count": 9,
   "metadata": {},
   "outputs": [],
   "source": [
    "fig, (ax1, ax2) = plt.subplots(1, 2, figsize=(20, 10), sharey=True)\n",
    "watprov_gdf.plot(column='R', ax=ax1, cmap='magma', legend=True, legend_kwds={'orientation':'horizontal', 'label':'R'})\n",
    "watprov_gdf.plot(column='RMSE', ax=ax2, cmap='viridis', legend=True, legend_kwds={'orientation':'horizontal', 'label':'RMSE'})\n",
    "plt.tight_layout()"
   ]
  },
  {
   "cell_type": "markdown",
   "metadata": {},
   "source": [
    "## Command line functionality\n",
    "\n",
    "Similar process, but less interactive is the command line functionality. Using `click` it is possible to evaluate model output with any other gridded dataset per polygon."
   ]
  },
  {
   "cell_type": "code",
   "execution_count": 10,
   "metadata": {},
   "outputs": [
    {
     "name": "stdout",
     "output_type": "stream",
     "text": [
      "INFO -- start.\n",
      "INFO -- pcrglobwb_utils version 0.3.3.\n",
      "INFO -- saving output to folder C:\\Users\\hoch0001\\Documents\\_code\\pcrglobwb_utils\\examples\\_OUT\\TEST\n",
      "INFO -- reading observed variable E from example_data/GLEAM/GLEAM_data_2010_Tanzania.nc\n",
      "INFO -- reading simulated variable total_evaporation from example_data/GLEAM/totalEvaporation_monthTot_output_2010_Tanzania.nc\n",
      "INFO -- reading polygons from C:\\Users\\hoch0001\\Documents\\_code\\pcrglobwb_utils\\examples\\example_data\\Tanzania_shp\\waterProvinces.geojson\n",
      "INFO -- evaluating each polygon\n",
      "INFO -- storing dictionary to C:\\Users\\hoch0001\\Documents\\_code\\pcrglobwb_utils\\examples\\_OUT\\TEST\\output_dict.csv.\n",
      "INFO -- storing polygons to C:\\Users\\hoch0001\\Documents\\_code\\pcrglobwb_utils\\examples\\_OUT\\TEST\\output_polygons.geojson.\n",
      "INFO -- done.\n",
      "INFO -- run time: 0:00:05.927825.\n"
     ]
    }
   ],
   "source": [
    "pcrglobwb_utils.eval.POLY('example_data/Tanzania_shp/waterProvinces.geojson', 'example_data/GLEAM/totalEvaporation_monthTot_output_2010_Tanzania.nc','example_data/GLEAM/GLEAM_data_2010_Tanzania.nc', './_OUT/TEST', 'watprovID', 'E', 'total_evaporation', conversion_factor=100)"
   ]
  },
  {
   "cell_type": "code",
   "execution_count": 11,
   "metadata": {},
   "outputs": [],
   "source": [
    "import shutil\n",
    "shutil.rmtree('./_OUT/TEST')"
   ]
  }
 ],
 "metadata": {
  "kernelspec": {
   "display_name": "Python 3",
   "language": "python",
   "name": "python3"
  },
  "language_info": {
   "codemirror_mode": {
    "name": "ipython",
    "version": 3
   },
   "file_extension": ".py",
   "mimetype": "text/x-python",
   "name": "python",
   "nbconvert_exporter": "python",
   "pygments_lexer": "ipython3",
   "version": "3.8.5"
  }
 },
 "nbformat": 4,
 "nbformat_minor": 4
}
